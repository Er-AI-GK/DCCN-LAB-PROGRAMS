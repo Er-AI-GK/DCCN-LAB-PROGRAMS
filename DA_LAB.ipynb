{
  "nbformat": 4,
  "nbformat_minor": 0,
  "metadata": {
    "colab": {
      "provenance": [],
      "collapsed_sections": [],
      "mount_file_id": "1uTmzwmao0YhqMy5uY1LNW1Choi_xR1YW",
      "authorship_tag": "ABX9TyM/exuGPWGoyUUGpfazXGQD",
      "include_colab_link": true
    },
    "kernelspec": {
      "name": "python3",
      "display_name": "Python 3"
    },
    "language_info": {
      "name": "python"
    }
  },
  "cells": [
    {
      "cell_type": "markdown",
      "metadata": {
        "id": "view-in-github",
        "colab_type": "text"
      },
      "source": [
        "<a href=\"https://colab.research.google.com/github/Er-AI-GK/DCCN-LAB-PROGRAMS/blob/main/DA_LAB.ipynb\" target=\"_parent\"><img src=\"https://colab.research.google.com/assets/colab-badge.svg\" alt=\"Open In Colab\"/></a>"
      ]
    },
    {
      "cell_type": "code",
      "execution_count": 13,
      "metadata": {
        "id": "wK02fS9EvhRM",
        "colab": {
          "base_uri": "https://localhost:8080/",
          "height": 497
        },
        "outputId": "016c4052-2b86-4d12-9588-6d11932ebaad"
      },
      "outputs": [
        {
          "output_type": "error",
          "ename": "NameError",
          "evalue": "ignored",
          "traceback": [
            "\u001b[0;31m---------------------------------------------------------------------------\u001b[0m",
            "\u001b[0;31mNameError\u001b[0m                                 Traceback (most recent call last)",
            "\u001b[0;32m<ipython-input-13-d3f0481acb34>\u001b[0m in \u001b[0;36m<module>\u001b[0;34m\u001b[0m\n\u001b[1;32m     25\u001b[0m     \u001b[0mprint\u001b[0m\u001b[0;34m(\u001b[0m\u001b[0mlabel\u001b[0m \u001b[0;34m+\u001b[0m \u001b[0;34m': '\u001b[0m \u001b[0;34m+\u001b[0m \u001b[0mstr\u001b[0m\u001b[0;34m(\u001b[0m\u001b[0mvalue\u001b[0m\u001b[0;34m)\u001b[0m\u001b[0;34m)\u001b[0m\u001b[0;34m\u001b[0m\u001b[0;34m\u001b[0m\u001b[0m\n\u001b[1;32m     26\u001b[0m \u001b[0;34m\u001b[0m\u001b[0m\n\u001b[0;32m---> 27\u001b[0;31m \u001b[0;32mif\u001b[0m \u001b[0mresult\u001b[0m\u001b[0;34m[\u001b[0m\u001b[0;36m1\u001b[0m\u001b[0;34m]\u001b[0m \u001b[0;34m<=\u001b[0m \u001b[0;36m0.05\u001b[0m\u001b[0;34m:\u001b[0m\u001b[0;34m\u001b[0m\u001b[0;34m\u001b[0m\u001b[0m\n\u001b[0m\u001b[1;32m     28\u001b[0m   \u001b[0mprint\u001b[0m\u001b[0;34m(\u001b[0m\u001b[0;34m'Strong evidence against the null hypothesis, Hence REJECT Ho. and The series is Stationary'\u001b[0m\u001b[0;34m)\u001b[0m\u001b[0;34m\u001b[0m\u001b[0;34m\u001b[0m\u001b[0m\n\u001b[1;32m     29\u001b[0m \u001b[0;32melse\u001b[0m\u001b[0;34m:\u001b[0m\u001b[0;34m\u001b[0m\u001b[0;34m\u001b[0m\u001b[0m\n",
            "\u001b[0;31mNameError\u001b[0m: name 'result' is not defined"
          ]
        },
        {
          "output_type": "display_data",
          "data": {
            "text/plain": [
              "<Figure size 432x288 with 1 Axes>"
            ],
            "image/png": "[encoded data removed]"
          },
          "metadata": {
            "needs_background": "light"
          }
        }
      ],
      "source": [
        "#TIME SERIES \n",
        "import numpy as np \n",
        "import pandas as pd \n",
        "import matplotlib.pyplot as plt \n",
        "import statsmodels as sm \n",
        "sm.__version__ \n",
        "df = pd.read_csv('/content/drive/MyDrive/Colab Notebooks/MLT LAB/voice.csv') \n",
        "df.head() \n",
        "df.tail() \n",
        "# df.drop([106,105],axis=0,inplace=True) \n",
        "df.columns=[\"Month\",\"Sales\"] \n",
        "df.head() \n",
        "df['Month']=pd.to_datetime(df['Month']) \n",
        "df.set_index('Month',inplace=True) \n",
        "df.head() \n",
        "df.describe() \n",
        "df.plot() \n",
        "\n",
        "from statsmodels.tsa.stattools import adfuller \n",
        "\n",
        "def adfuller_test(sales): \n",
        "  result = adfuller(sales) \n",
        "  labels = ['ADF Test Statistic','p-value','#Lags Used','#Observation Used'] \n",
        "  for value,label in zip(result,labels): \n",
        "    print(label + ': ' + str(value)) \n",
        "      \n",
        "if result[1] <= 0.05: \n",
        "  print('Strong evidence against the null hypothesis, Hence REJECT Ho. and The series is Stationary') \n",
        "else: \n",
        "  print('week evidence against null hypothesis, Hence ACCEPT Ho. that the series is not stationary.') \n",
        "\n",
        "adfuller_test(df['Sales']) \n",
        "df['Sales First Difference'] = df['Sales'] - df['Sales'].shift(1) \n",
        "df['Sales'].shift(1).head() \n",
        "df['Seasonal First Difference']=df['Sales']-df['Sales'].shift(12) \n",
        "adfuller_test(df['Seasonal First Difference'].dropna()) \n",
        "df['Seasonal First Difference'].plot() \n",
        "\n",
        "from pandas.plotting import autocorrelation_plot \n",
        "autocorrelation_plot(df['Sales']) \n",
        "plt.show() \n",
        "\n",
        "from statsmodels.graphics.tsaplots import plot_acf,plot_pacf \n",
        "fig = plt.figure(figsize=(12,8)) \n",
        "ax1 = fig.add_subplot(211) \n",
        "fig = sm.graphics.tsaplots.plot_acf(df['Seasonal First Difference'].iloc[13:],lags=40,ax=ax1) \n",
        "ax2 = fig.add_subplot(212) \n",
        "fig = sm.graphics.tsaplots.plot_pacf(df['Seasonal First Difference'].iloc[13:],lags=40,ax=ax2)  "
      ]
    },
    {
      "cell_type": "code",
      "source": [
        "#REGRESSION\n",
        "\n",
        "import numpy as np\n",
        "import matplotlib.pyplot as plt\n",
        "\n",
        "def estimate_coef(x, y):\n",
        "\t# number of observations/points\n",
        "\tn = np.size(x)\n",
        "\n",
        "\t# mean of x and y vector\n",
        "\tm_x = np.mean(x)\n",
        "\tm_y = np.mean(y)\n",
        "\n",
        "\t# calculating cross-deviation and deviation about x\n",
        "\tSS_xy = np.sum(y*x) - n*m_y*m_x\n",
        "\tSS_xx = np.sum(x*x) - n*m_x*m_x\n",
        "\n",
        "\t# calculating regression coefficients\n",
        "\tb_1 = SS_xy / SS_xx\n",
        "\tb_0 = m_y - b_1*m_x\n",
        "\n",
        "\treturn (b_0, b_1)\n",
        "\n",
        "def plot_regression_line(x, y, b):\n",
        "\t# plotting the actual points as scatter plot\n",
        "\tplt.scatter(x, y, color = \"m\",\n",
        "\t\t\tmarker = \"o\", s = 30)\n",
        "\n",
        "\t# predicted response vector\n",
        "\ty_pred = b[0] + b[1]*x\n",
        "\n",
        "\t# plotting the regression line\n",
        "\tplt.plot(x, y_pred, color = \"g\")\n",
        "\n",
        "\t# putting labels\n",
        "\tplt.xlabel('x')\n",
        "\tplt.ylabel('y')\n",
        "\n",
        "\t# function to show plot\n",
        "\tplt.show()\n",
        "\n",
        "def main():\n",
        "\t# observations / data\n",
        "\tx = np.array([0, 1, 2, 3, 4, 5, 6, 7, 8, 9])\n",
        "\ty = np.array([1, 3, 2, 5, 7, 8, 8, 9, 10, 12])\n",
        "\n",
        "\t# estimating coefficients\n",
        "\tb = estimate_coef(x, y)\n",
        "\tprint(\"Estimated coefficients:\\nb_0 = {} \\\n",
        "\t\t\\nb_1 = {}\".format(b[0], b[1]))\n",
        "\n",
        "\t# plotting regression line\n",
        "\tplot_regression_line(x, y, b)\n",
        "\n",
        "if __name__ == \"__main__\":\n",
        "\tmain()\n"
      ],
      "metadata": {
        "colab": {
          "base_uri": "https://localhost:8080/",
          "height": 331
        },
        "id": "hbziYGVQyBqw",
        "outputId": "f7b27be4-99f3-4d87-cd9d-62a82367d32f"
      },
      "execution_count": 9,
      "outputs": [
        {
          "output_type": "stream",
          "name": "stdout",
          "text": [
            "Estimated coefficients:\n",
            "b_0 = 1.2363636363636363 \t\t\n",
            "b_1 = 1.1696969696969697\n"
          ]
        },
        {
          "output_type": "display_data",
          "data": {
            "text/plain": [
              "<Figure size 432x288 with 1 Axes>"
            ],
            "image/png": "[encoded data removed]"
          },
          "metadata": {
            "needs_background": "light"
          }
        }
      ]
    },
    {
      "cell_type": "code",
      "source": [
        "# Importing library\n",
        "from scipy.stats import f_oneway\n",
        "\n",
        "data1 = [89, 89, 88, 78, 79]\n",
        "data2 = [93, 92, 94, 89, 88]\n",
        "data3 = [89, 88, 89, 93, 90]\n",
        "data4 = [81, 78, 81, 92, 82]\n",
        "\n",
        "# one-way ANOVA output\n",
        "f_oneway(data1, data2, data3, data4)\n"
      ],
      "metadata": {
        "colab": {
          "base_uri": "https://localhost:8080/"
        },
        "id": "EQndEA38-4hu",
        "outputId": "edc0bcbc-5bf1-4dde-a85f-55cad6e28755"
      },
      "execution_count": 14,
      "outputs": [
        {
          "output_type": "execute_result",
          "data": {
            "text/plain": [
              "F_onewayResult(statistic=4.625000000000002, pvalue=0.016336459839780215)"
            ]
          },
          "metadata": {},
          "execution_count": 14
        }
      ]
    },
    {
      "cell_type": "code",
      "source": [
        "# T TEST\n",
        "sys_bp=[183, 152, 178, 157, 194, 163, 144, 114, 178, 152, 118, 158, 172, 138] \n",
        "mu=165 \n",
        "from scipy import stats \n",
        "t_value,p_value=stats.ttest_1samp(sys_bp,mu) \n",
        "one_tailed_p_value=float(\"{:.6f}\".format(p_value/2))\n",
        "# Since alternative hypothesis is one tailed, We need to divide the p value by 2. \n",
        "print('Test statistic is %f'%float(\"{:.6f}\".format(t_value))) \n",
        "print('p-value for one tailed test is %f'%one_tailed_p_value) \n",
        "alpha = 0.05 \n",
        "if one_tailed_p_value<=alpha: \n",
        " print('Conclusion','n','Since p value(=%f)'%p_value,'<','alpha(=%.2f)'%alpha,'''We reject the null hypothesis H0. So we conclude that there is no significant mean difference in systolic blood pressure. i.e., μ = 165 at %.2f level of \n",
        "significance'''%alpha) \n",
        "else: \n",
        " print('Conclusion','n','Sincep-value(=%f)'%one_tailed_p_value, '>', 'alpha(=%.2f)'%alpha,'We do not reject the null hypothesis H0.') \n"
      ],
      "metadata": {
        "id": "SKSAKJ9CyCpq",
        "colab": {
          "base_uri": "https://localhost:8080/"
        },
        "outputId": "267f0193-71c3-496e-ceb9-57534898772f"
      },
      "execution_count": 16,
      "outputs": [
        {
          "output_type": "stream",
          "name": "stdout",
          "text": [
            "Test statistic is -1.243183\n",
            "p-value for one tailed test is 0.117877\n",
            "Conclusion n Sincep-value(=0.117877) > alpha(=0.05) We do not reject the null hypothesis H0.\n"
          ]
        }
      ]
    },
    {
      "cell_type": "code",
      "source": [
        "# Z TEST\n",
        "\n",
        "import math \n",
        "import numpy as np \n",
        "from numpy.random import randn \n",
        "from statsmodels.stats.weightstats import ztest \n",
        "\n",
        "mean= 3.4 \n",
        "sd = 2.61/math.sqrt(900) \n",
        "alpha =0.05 \n",
        "population_mean = 3.25 \n",
        "data = sd*randn(900)+mean \n",
        "\n",
        "# print mean and sd \n",
        "print('mean=%.2f stdv=%.2f' % (np.mean(data), np.std(data))) \n",
        "\n",
        "# now we perform the test. In this function, we passed data, in the value parameter \n",
        "# we passed mean value in the null hypothesis, in alternative hypothesis we check whether the \n",
        "# mean is larger \n",
        "\n",
        "ztest_Score, p_value= ztest(data,value = population_mean, alternative='larger') \n",
        "print(p_value) \n",
        "print(alpha) \n",
        "\n",
        "if(p_value < alpha): \n",
        "  print(\"H0 accepted\") \n",
        "else: \n",
        "  print(\" Reject Hypothesis\") "
      ],
      "metadata": {
        "colab": {
          "base_uri": "https://localhost:8080/"
        },
        "id": "T7dsAA8PB1dn",
        "outputId": "57b4bbbd-f2e9-4a8b-bc51-ddd71f5f1d8a"
      },
      "execution_count": 17,
      "outputs": [
        {
          "output_type": "stream",
          "name": "stdout",
          "text": [
            "mean=3.41 stdv=0.09\n",
            "0.0\n",
            "0.05\n",
            "H0 accepted\n"
          ]
        }
      ]
    },
    {
      "cell_type": "code",
      "source": [
        "#LOGISTIC REGRESSION\n",
        "\n",
        "import numpy as np \n",
        "import matplotlib.pyplot as plt \n",
        "import pandas as pd \n",
        "datasets = pd.read_csv('/content/drive/MyDrive/Raj anand.csv') \n",
        "X = datasets.iloc[:, [2,3]].values \n",
        "Y = datasets.iloc[:, 4].values \n",
        "from sklearn.model_selection import train_test_split \n",
        "X_Train, X_Test, Y_Train, Y_Test = train_test_split(X, Y, test_size = 0.25, random_state= 0) \n",
        "from sklearn.preprocessing import StandardScaler \n",
        "sc_X = StandardScaler() \n",
        "X_Train = sc_X.fit_transform(X_Train) \n",
        "X_Test = sc_X.transform(X_Test) \n",
        "from sklearn.linear_model import LogisticRegression \n",
        "classifier = LogisticRegression(random_state = 0) \n",
        "classifier.fit(X_Train, Y_Train) \n",
        "Y_Pred = classifier.predict(X_Test) \n",
        "from matplotlib.colors import ListedColormap \n",
        "X_Set, Y_Set = X_Train, Y_Train \n",
        "X1, X2 = np.meshgrid(np.arange(start = X_Set[:,0].min() -1, stop = X_Set[:, 0].max() \n",
        "+1, step = 0.01), \n",
        " np.arange(start = X_Set[:,1].min() -1, stop = X_Set[:, 1].max() +1, step = \n",
        "0.01)) \n",
        "plt.contourf(X1,X2, classifier.predict(np.array([X1.ravel(), \n",
        "X2.ravel()]).T).reshape(X1.shape), \n",
        " alpha = 0.75, cmap = ListedColormap(('white', 'yellow'))) \n",
        "plt.xlim(X1.min(), X2.max()) \n",
        "plt.ylim(X2.min(), X2.max()) \n",
        "for i, j in enumerate(np.unique(Y_Set)): \n",
        " plt.scatter(X_Set[Y_Set == j, 0], X_Set[Y_Set == j,1], \n",
        " c = ListedColormap(('red', 'green'))(i), label = j) \n",
        "plt.title('Logistic Regression ( Training set)') \n",
        "plt.xlabel('Age') \n",
        "plt.ylabel('Estimated Salary') \n",
        "plt.legend() \n",
        "plt.show()\n"
      ],
      "metadata": {
        "colab": {
          "base_uri": "https://localhost:8080/",
          "height": 350
        },
        "id": "ACpjg5NfzTJc",
        "outputId": "068b1bf5-c751-4240-ba99-62c606a7d076"
      },
      "execution_count": 3,
      "outputs": [
        {
          "output_type": "stream",
          "name": "stderr",
          "text": [
            "WARNING:matplotlib.axes._axes:*c* argument looks like a single numeric RGB or RGBA sequence, which should be avoided as value-mapping will have precedence in case its length matches with *x* & *y*.  Please use the *color* keyword-argument or provide a 2-D array with a single row if you intend to specify the same RGB or RGBA value for all points.\n",
            "WARNING:matplotlib.axes._axes:*c* argument looks like a single numeric RGB or RGBA sequence, which should be avoided as value-mapping will have precedence in case its length matches with *x* & *y*.  Please use the *color* keyword-argument or provide a 2-D array with a single row if you intend to specify the same RGB or RGBA value for all points.\n"
          ]
        },
        {
          "output_type": "display_data",
          "data": {
            "text/plain": [
              "<Figure size 432x288 with 1 Axes>"
            ],
            "image/png": "[encoded data removed]"
          },
          "metadata": {
            "needs_background": "light"
          }
        }
      ]
    },
    {
      "cell_type": "code",
      "source": [
        "# RANDOM SAMPLING  \n",
        "\n",
        "# Python3 program to demonstrate\n",
        "# the use of sample() function .\n",
        "\n",
        "# import random\n",
        "import random\n",
        "\n",
        "\n",
        "# Prints list of random items of\n",
        "# length 3 from the given list.\n",
        "list1 = [1, 2, 3, 4, 5, 6]\n",
        "print(\"With list:\", random.sample(list1, 3))\n",
        "\n",
        "# Prints list of random items of\n",
        "# length 4 from the given string.\n",
        "string = \"GeeksforGeeks\"\n",
        "print(\"With string:\", random.sample(string, 4))\n",
        "\n",
        "# Prints list of random items of\n",
        "# length 4 from the given tuple.\n",
        "tuple1 = (\"ankit\", \"geeks\", \"computer\", \"science\",\n",
        "\t\t\t\t\"portal\", \"scientist\", \"btech\")\n",
        "print(\"With tuple:\", random.sample(tuple1, 4))\n",
        "\n",
        "\n",
        "# Prints list of random items of\n",
        "# length 3 from the given set.\n",
        "set1 = {\"a\", \"b\", \"c\", \"d\", \"e\"}\n",
        "print(\"With set:\", random.sample(set1, 3))\n",
        "\n"
      ],
      "metadata": {
        "id": "I3JDDRUMzUAg",
        "colab": {
          "base_uri": "https://localhost:8080/"
        },
        "outputId": "d354504a-4c1c-4a83-e10d-920ff312ac3d"
      },
      "execution_count": 18,
      "outputs": [
        {
          "output_type": "stream",
          "name": "stdout",
          "text": [
            "With list: [5, 2, 1]\n",
            "With string: ['e', 'f', 'k', 'k']\n",
            "With tuple: ['ankit', 'scientist', 'science', 'btech']\n",
            "With set: ['b', 'a', 'd']\n"
          ]
        }
      ]
    },
    {
      "cell_type": "code",
      "source": [
        "# random sampling using data set\n",
        "\n",
        "import pandas as pd\n",
        "\n",
        "data=pd.read_csv('/content/drive/MyDrive/Colab Notebooks/MLT LAB/voice.csv')\n",
        "data.sample(5)"
      ],
      "metadata": {
        "colab": {
          "base_uri": "https://localhost:8080/",
          "height": 206
        },
        "id": "ZievhQGdC6zf",
        "outputId": "670bd528-49f8-4616-9f28-e76ff2d8cbb9"
      },
      "execution_count": 20,
      "outputs": [
        {
          "output_type": "execute_result",
          "data": {
            "text/plain": [
              "      Month  champange\n",
              "42  1967-07       3663\n",
              "37  1967-02       3088\n",
              "71  1969-12      13916\n",
              "97  1972-02       3564\n",
              "34  1966-11       7614"
            ],
            "text/html": [
              "\n",
              "  <div id=\"df-dd2646fd-b25d-4f7f-aad4-7cf963c56ffa\">\n",
              "    <div class=\"colab-df-container\">\n",
              "      <div>\n",
              "<style scoped>\n",
              "    .dataframe tbody tr th:only-of-type {\n",
              "        vertical-align: middle;\n",
              "    }\n",
              "\n",
              "    .dataframe tbody tr th {\n",
              "        vertical-align: top;\n",
              "    }\n",
              "\n",
              "    .dataframe thead th {\n",
              "        text-align: right;\n",
              "    }\n",
              "</style>\n",
              "<table border=\"1\" class=\"dataframe\">\n",
              "  <thead>\n",
              "    <tr style=\"text-align: right;\">\n",
              "      <th></th>\n",
              "      <th>Month</th>\n",
              "      <th>champange</th>\n",
              "    </tr>\n",
              "  </thead>\n",
              "  <tbody>\n",
              "    <tr>\n",
              "      <th>42</th>\n",
              "      <td>1967-07</td>\n",
              "      <td>3663</td>\n",
              "    </tr>\n",
              "    <tr>\n",
              "      <th>37</th>\n",
              "      <td>1967-02</td>\n",
              "      <td>3088</td>\n",
              "    </tr>\n",
              "    <tr>\n",
              "      <th>71</th>\n",
              "      <td>1969-12</td>\n",
              "      <td>13916</td>\n",
              "    </tr>\n",
              "    <tr>\n",
              "      <th>97</th>\n",
              "      <td>1972-02</td>\n",
              "      <td>3564</td>\n",
              "    </tr>\n",
              "    <tr>\n",
              "      <th>34</th>\n",
              "      <td>1966-11</td>\n",
              "      <td>7614</td>\n",
              "    </tr>\n",
              "  </tbody>\n",
              "</table>\n",
              "</div>\n",
              "      <button class=\"colab-df-convert\" onclick=\"convertToInteractive('df-dd2646fd-b25d-4f7f-aad4-7cf963c56ffa')\"\n",
              "              title=\"Convert this dataframe to an interactive table.\"\n",
              "              style=\"display:none;\">\n",
              "        \n",
              "  <svg xmlns=\"http://www.w3.org/2000/svg\" height=\"24px\"viewBox=\"0 0 24 24\"\n",
              "       width=\"24px\">\n",
              "    <path d=\"M0 0h24v24H0V0z\" fill=\"none\"/>\n",
              "    <path d=\"M18.56 5.44l.94 2.06.94-2.06 2.06-.94-2.06-.94-.94-2.06-.94 2.06-2.06.94zm-11 1L8.5 8.5l.94-2.06 2.06-.94-2.06-.94L8.5 2.5l-.94 2.06-2.06.94zm10 10l.94 2.06.94-2.06 2.06-.94-2.06-.94-.94-2.06-.94 2.06-2.06.94z\"/><path d=\"M17.41 7.96l-1.37-1.37c-.4-.4-.92-.59-1.43-.59-.52 0-1.04.2-1.43.59L10.3 9.45l-7.72 7.72c-.78.78-.78 2.05 0 2.83L4 21.41c.39.39.9.59 1.41.59.51 0 1.02-.2 1.41-.59l7.78-7.78 2.81-2.81c.8-.78.8-2.07 0-2.86zM5.41 20L4 18.59l7.72-7.72 1.47 1.35L5.41 20z\"/>\n",
              "  </svg>\n",
              "      </button>\n",
              "      \n",
              "  <style>\n",
              "    .colab-df-container {\n",
              "      display:flex;\n",
              "      flex-wrap:wrap;\n",
              "      gap: 12px;\n",
              "    }\n",
              "\n",
              "    .colab-df-convert {\n",
              "      background-color: #E8F0FE;\n",
              "      border: none;\n",
              "      border-radius: 50%;\n",
              "      cursor: pointer;\n",
              "      display: none;\n",
              "      fill: #1967D2;\n",
              "      height: 32px;\n",
              "      padding: 0 0 0 0;\n",
              "      width: 32px;\n",
              "    }\n",
              "\n",
              "    .colab-df-convert:hover {\n",
              "      background-color: #E2EBFA;\n",
              "      box-shadow: 0px 1px 2px rgba(60, 64, 67, 0.3), 0px 1px 3px 1px rgba(60, 64, 67, 0.15);\n",
              "      fill: #174EA6;\n",
              "    }\n",
              "\n",
              "    [theme=dark] .colab-df-convert {\n",
              "      background-color: #3B4455;\n",
              "      fill: #D2E3FC;\n",
              "    }\n",
              "\n",
              "    [theme=dark] .colab-df-convert:hover {\n",
              "      background-color: #434B5C;\n",
              "      box-shadow: 0px 1px 3px 1px rgba(0, 0, 0, 0.15);\n",
              "      filter: drop-shadow(0px 1px 2px rgba(0, 0, 0, 0.3));\n",
              "      fill: #FFFFFF;\n",
              "    }\n",
              "  </style>\n",
              "\n",
              "      <script>\n",
              "        const buttonEl =\n",
              "          document.querySelector('#df-dd2646fd-b25d-4f7f-aad4-7cf963c56ffa button.colab-df-convert');\n",
              "        buttonEl.style.display =\n",
              "          google.colab.kernel.accessAllowed ? 'block' : 'none';\n",
              "\n",
              "        async function convertToInteractive(key) {\n",
              "          const element = document.querySelector('#df-dd2646fd-b25d-4f7f-aad4-7cf963c56ffa');\n",
              "          const dataTable =\n",
              "            await google.colab.kernel.invokeFunction('convertToInteractive',\n",
              "                                                     [key], {});\n",
              "          if (!dataTable) return;\n",
              "\n",
              "          const docLinkHtml = 'Like what you see? Visit the ' +\n",
              "            '<a target=\"_blank\" href=https://colab.research.google.com/notebooks/data_table.ipynb>data table notebook</a>'\n",
              "            + ' to learn more about interactive tables.';\n",
              "          element.innerHTML = '';\n",
              "          dataTable['output_type'] = 'display_data';\n",
              "          await google.colab.output.renderOutput(dataTable, element);\n",
              "          const docLink = document.createElement('div');\n",
              "          docLink.innerHTML = docLinkHtml;\n",
              "          element.appendChild(docLink);\n",
              "        }\n",
              "      </script>\n",
              "    </div>\n",
              "  </div>\n",
              "  "
            ]
          },
          "metadata": {},
          "execution_count": 20
        }
      ]
    },
    {
      "cell_type": "code",
      "source": [],
      "metadata": {
        "id": "xGTFRZDhDq5p"
      },
      "execution_count": null,
      "outputs": []
    }
  ]
}